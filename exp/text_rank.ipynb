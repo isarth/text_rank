{
 "cells": [
  {
   "cell_type": "code",
   "execution_count": 26,
   "metadata": {},
   "outputs": [],
   "source": [
    "import numpy as np\n",
    "from nltk.corpus import stopwords\n",
    "from nltk.tokenize import sent_tokenize,word_tokenize\n",
    "import math"
   ]
  },
  {
   "cell_type": "code",
   "execution_count": 1,
   "metadata": {},
   "outputs": [],
   "source": [
    "with open('../dataset/text.txt') as f:\n",
    "    text=f.read()"
   ]
  },
  {
   "cell_type": "code",
   "execution_count": 52,
   "metadata": {
    "scrolled": true
   },
   "outputs": [
    {
     "name": "stdout",
     "output_type": "stream",
     "text": [
      "Millions of gallons of crude oil that\n",
      "spilled when a tanker ran aground spread across a wildlife-rich\n",
      "stretch of ocean Saturday, and Alaska's chief environmental officer\n",
      "criticized cleanup efforts as too slow.\n",
      "   The biggest oil spill in U.S. history created a slick about\n",
      "seven miles long and seven \n"
     ]
    }
   ],
   "source": [
    "print (text[:300]) #document that we want to summarize\n",
    "sentences=text.split('\\n') # you can also use nltk sentence tokenizer "
   ]
  },
  {
   "cell_type": "code",
   "execution_count": 14,
   "metadata": {},
   "outputs": [],
   "source": [
    "stopwords_list=list(stopwords.words()) #list of stopwords"
   ]
  },
  {
   "cell_type": "code",
   "execution_count": 21,
   "metadata": {},
   "outputs": [],
   "source": [
    "def sentence_words(sent):\n",
    "    return [ix for ix in word_tokenize(sent) if ix not in stopwords_list]"
   ]
  },
  {
   "cell_type": "code",
   "execution_count": 28,
   "metadata": {},
   "outputs": [],
   "source": [
    "def edge_weight(words1,words2):\n",
    "    rank = 0\n",
    "    for w1 in words1:\n",
    "        for w2 in words2:\n",
    "            rank += int(w1 == w2)\n",
    "    if rank == 0:\n",
    "        return 0.0\n",
    "\n",
    "    assert len(words1) > 0 and len(words2) > 0\n",
    "    norm = math.log(len(words1)) + math.log(len(words2))\n",
    "    if np.isclose(norm, 0.):\n",
    "        # This should only happen when words1 and words2 only have a single word.\n",
    "        # Thus, rank can only be 0 or 1.\n",
    "        assert rank in (0, 1)\n",
    "        return rank * 1.0\n",
    "    else:\n",
    "        return rank / norm"
   ]
  },
  {
   "cell_type": "code",
   "execution_count": 38,
   "metadata": {},
   "outputs": [
    {
     "name": "stdout",
     "output_type": "stream",
     "text": [
      "['Millions', 'gallons', 'crude', 'oil'] || ['spilled', 'tanker', 'ran', 'aground', 'spread', 'across', 'wildlife-rich']\n",
      "Sentence Similarity score : 0.0\n"
     ]
    }
   ],
   "source": [
    "# Sentence similarity\n",
    "s1=sentence_words(sentences[0])\n",
    "s2=sentence_words(sentences[1])\n",
    "print (s1,'||',s2) #when no words are similar \n",
    "print ('Sentence Similarity score :',edge_weight(s1,s2)) "
   ]
  },
  {
   "cell_type": "code",
   "execution_count": 59,
   "metadata": {
    "run_control": {
     "marked": true
    }
   },
   "outputs": [],
   "source": [
    "def create_matrix( document,damping=0.85):\n",
    "    sentences_as_words = [sentence_words(sent) for sent in document]\n",
    "    sentences_count = len(sentences_as_words)\n",
    "    weights = np.zeros((sentences_count, sentences_count))\n",
    "\n",
    "    for i, words_i in enumerate(sentences_as_words):\n",
    "        for j, words_j in enumerate(sentences_as_words):\n",
    "            weights[i, j] = edge_weight(words_i, words_j)\n",
    "    weights /= weights.sum(axis=1)[:, np.newaxis]\n",
    "    return np.full((sentences_count, sentences_count), (1.-damping) / sentences_count) \\\n",
    "            + damping * weights"
   ]
  },
  {
   "cell_type": "code",
   "execution_count": 60,
   "metadata": {
    "run_control": {
     "marked": true
    }
   },
   "outputs": [],
   "source": [
    "C=create_matrix(sentences)"
   ]
  },
  {
   "cell_type": "code",
   "execution_count": 66,
   "metadata": {
    "run_control": {
     "marked": true
    }
   },
   "outputs": [],
   "source": [
    "def power_method(matrix, epsilon=1e-4):\n",
    "        transposed_matrix = matrix.T\n",
    "        sentences_count = len(matrix)\n",
    "        p_vector = np.array([1.0 / sentences_count] * sentences_count)\n",
    "        lambda_val = 1.0\n",
    "\n",
    "        while lambda_val > epsilon:\n",
    "            next_p = np.dot(transposed_matrix, p_vector)\n",
    "            lambda_val = np.linalg.norm(np.subtract(next_p, p_vector))\n",
    "            p_vector = next_p\n",
    "\n",
    "        return p_vector"
   ]
  },
  {
   "cell_type": "code",
   "execution_count": 67,
   "metadata": {},
   "outputs": [],
   "source": [
    "C=create_matrix(sentences) # similar to probability matrix in page rank\n",
    "ranking=power_method(C) #page rank "
   ]
  },
  {
   "cell_type": "code",
   "execution_count": 71,
   "metadata": {
    "scrolled": true
   },
   "outputs": [
    {
     "data": {
      "text/plain": [
       "'Bay, Texas. However, that oil burned as well as spilled.'"
      ]
     },
     "execution_count": 71,
     "metadata": {},
     "output_type": "execute_result"
    }
   ],
   "source": [
    "#let's print the highest rated sentence\n",
    "sentences[np.argmax(ranking)]"
   ]
  },
  {
   "cell_type": "code",
   "execution_count": 82,
   "metadata": {},
   "outputs": [],
   "source": [
    "def k_sentences(ranking,sents,k=5):\n",
    "    idxs=[]\n",
    "    sorted_rankings=sorted(enumerate(ranking),key=lambda x:x[1],reverse=True)\n",
    "    for i in range(k):\n",
    "        idxs.append(sorted_rankings[i][0])\n",
    "    idxs=sorted(idxs)\n",
    "    for ix in idxs:\n",
    "        print (sentences[ix])"
   ]
  },
  {
   "cell_type": "code",
   "execution_count": 84,
   "metadata": {},
   "outputs": [
    {
     "name": "stdout",
     "output_type": "stream",
     "text": [
      "   ``It is an enclosed body of water,'' he said. ``The only way for\n",
      "shoreline will be contaminated,'' he said.\n",
      "vessel's hull large enough to swim through, said Frank Iarossi,\n",
      "to be done in a controlled manner,'' Wieliczkiewicz said. ``If it's\n",
      "birds and pink salmon in that area,'' said Steve Goldstein, a\n",
      "Sound. ``It's kind of like sailing through a zoo,'' said Jim\n",
      "the world to clean up,'' said Riki Ott, chairman of the\n",
      "their catches, she said.\n",
      "   Previously, the largest U.S. tanker spill was the Dec. 15, 1976,\n",
      "Bay, Texas. However, that oil burned as well as spilled.\n"
     ]
    }
   ],
   "source": [
    "k_sentences(ranking,sentences,k=10)"
   ]
  }
 ],
 "metadata": {
  "kernelspec": {
   "display_name": "Python 3",
   "language": "python",
   "name": "python3"
  },
  "language_info": {
   "codemirror_mode": {
    "name": "ipython",
    "version": 3
   },
   "file_extension": ".py",
   "mimetype": "text/x-python",
   "name": "python",
   "nbconvert_exporter": "python",
   "pygments_lexer": "ipython3",
   "version": "3.6.5"
  },
  "latex_envs": {
   "LaTeX_envs_menu_present": true,
   "autoclose": true,
   "autocomplete": true,
   "bibliofile": "biblio.bib",
   "cite_by": "apalike",
   "current_citInitial": 1,
   "eqLabelWithNumbers": true,
   "eqNumInitial": 1,
   "hotkeys": {
    "equation": "Ctrl-E",
    "itemize": "Ctrl-I"
   },
   "labels_anchors": false,
   "latex_user_defs": false,
   "report_style_numbering": false,
   "user_envs_cfg": false
  }
 },
 "nbformat": 4,
 "nbformat_minor": 2
}
